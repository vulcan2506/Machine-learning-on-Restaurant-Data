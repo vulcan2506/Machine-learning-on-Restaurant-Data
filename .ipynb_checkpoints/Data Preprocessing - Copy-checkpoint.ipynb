{
 "cells": [
  {
   "cell_type": "code",
   "execution_count": 371,
   "id": "b5001c22-33d5-442f-9f98-d2b38d166ea6",
   "metadata": {},
   "outputs": [],
   "source": [
    "import pandas as pd\n",
    "import numpy as np "
   ]
  },
  {
   "cell_type": "code",
   "execution_count": 372,
   "id": "237a2041-d1b5-4457-9ea9-396f53bc1afc",
   "metadata": {},
   "outputs": [],
   "source": [
    "dataset = pd.read_csv(\"data3\")"
   ]
  },
  {
   "cell_type": "code",
   "execution_count": 373,
   "id": "fca3828c-6532-49e0-80f7-40d12aaaac0d",
   "metadata": {},
   "outputs": [
    {
     "data": {
      "text/html": [
       "<div>\n",
       "<style scoped>\n",
       "    .dataframe tbody tr th:only-of-type {\n",
       "        vertical-align: middle;\n",
       "    }\n",
       "\n",
       "    .dataframe tbody tr th {\n",
       "        vertical-align: top;\n",
       "    }\n",
       "\n",
       "    .dataframe thead th {\n",
       "        text-align: right;\n",
       "    }\n",
       "</style>\n",
       "<table border=\"1\" class=\"dataframe\">\n",
       "  <thead>\n",
       "    <tr style=\"text-align: right;\">\n",
       "      <th></th>\n",
       "      <th>Unnamed: 0</th>\n",
       "      <th>Restaurant ID</th>\n",
       "      <th>Restaurant Name</th>\n",
       "      <th>Country Code</th>\n",
       "      <th>City</th>\n",
       "      <th>Address</th>\n",
       "      <th>Locality</th>\n",
       "      <th>Locality Verbose</th>\n",
       "      <th>Longitude</th>\n",
       "      <th>Latitude</th>\n",
       "      <th>...</th>\n",
       "      <th>Rating text</th>\n",
       "      <th>Votes</th>\n",
       "      <th>Cuisines</th>\n",
       "      <th>Cuisines 2</th>\n",
       "      <th>Cuisines 3</th>\n",
       "      <th>Cuisines 4</th>\n",
       "      <th>Cuisines 5</th>\n",
       "      <th>Cuisines 6</th>\n",
       "      <th>Cuisines 7</th>\n",
       "      <th>Cuisines 8</th>\n",
       "    </tr>\n",
       "  </thead>\n",
       "  <tbody>\n",
       "    <tr>\n",
       "      <th>0</th>\n",
       "      <td>0</td>\n",
       "      <td>6317637</td>\n",
       "      <td>Le Petit Souffle</td>\n",
       "      <td>162</td>\n",
       "      <td>Makati City</td>\n",
       "      <td>Third Floor, Century City Mall, Kalayaan Avenu...</td>\n",
       "      <td>Century City Mall, Poblacion, Makati City</td>\n",
       "      <td>Century City Mall, Poblacion, Makati City, Mak...</td>\n",
       "      <td>121.027535</td>\n",
       "      <td>14.565443</td>\n",
       "      <td>...</td>\n",
       "      <td>1</td>\n",
       "      <td>314.0</td>\n",
       "      <td>39</td>\n",
       "      <td>60</td>\n",
       "      <td>31</td>\n",
       "      <td>72</td>\n",
       "      <td>50</td>\n",
       "      <td>36</td>\n",
       "      <td>16</td>\n",
       "      <td>5</td>\n",
       "    </tr>\n",
       "    <tr>\n",
       "      <th>1</th>\n",
       "      <td>1</td>\n",
       "      <td>6304287</td>\n",
       "      <td>Izakaya Kikufuji</td>\n",
       "      <td>162</td>\n",
       "      <td>Makati City</td>\n",
       "      <td>Little Tokyo, 2277 Chino Roces Avenue, Legaspi...</td>\n",
       "      <td>Little Tokyo, Legaspi Village, Makati City</td>\n",
       "      <td>Little Tokyo, Legaspi Village, Makati City, Ma...</td>\n",
       "      <td>121.014101</td>\n",
       "      <td>14.553708</td>\n",
       "      <td>...</td>\n",
       "      <td>1</td>\n",
       "      <td>320.0</td>\n",
       "      <td>55</td>\n",
       "      <td>116</td>\n",
       "      <td>99</td>\n",
       "      <td>72</td>\n",
       "      <td>50</td>\n",
       "      <td>36</td>\n",
       "      <td>16</td>\n",
       "      <td>5</td>\n",
       "    </tr>\n",
       "    <tr>\n",
       "      <th>2</th>\n",
       "      <td>2</td>\n",
       "      <td>6300002</td>\n",
       "      <td>Heat - Edsa Shangri-La</td>\n",
       "      <td>162</td>\n",
       "      <td>Mandaluyong City</td>\n",
       "      <td>Edsa Shangri-La, 1 Garden Way, Ortigas, Mandal...</td>\n",
       "      <td>Edsa Shangri-La, Ortigas, Mandaluyong City</td>\n",
       "      <td>Edsa Shangri-La, Ortigas, Mandaluyong City, Ma...</td>\n",
       "      <td>121.056831</td>\n",
       "      <td>14.581404</td>\n",
       "      <td>...</td>\n",
       "      <td>5</td>\n",
       "      <td>270.0</td>\n",
       "      <td>97</td>\n",
       "      <td>5</td>\n",
       "      <td>36</td>\n",
       "      <td>36</td>\n",
       "      <td>50</td>\n",
       "      <td>36</td>\n",
       "      <td>16</td>\n",
       "      <td>5</td>\n",
       "    </tr>\n",
       "    <tr>\n",
       "      <th>3</th>\n",
       "      <td>3</td>\n",
       "      <td>6318506</td>\n",
       "      <td>Ooma</td>\n",
       "      <td>162</td>\n",
       "      <td>Mandaluyong City</td>\n",
       "      <td>Third Floor, Mega Fashion Hall, SM Megamall, O...</td>\n",
       "      <td>SM Megamall, Ortigas, Mandaluyong City</td>\n",
       "      <td>SM Megamall, Ortigas, Mandaluyong City, Mandal...</td>\n",
       "      <td>121.056475</td>\n",
       "      <td>14.585318</td>\n",
       "      <td>...</td>\n",
       "      <td>1</td>\n",
       "      <td>320.0</td>\n",
       "      <td>55</td>\n",
       "      <td>103</td>\n",
       "      <td>99</td>\n",
       "      <td>72</td>\n",
       "      <td>50</td>\n",
       "      <td>36</td>\n",
       "      <td>16</td>\n",
       "      <td>5</td>\n",
       "    </tr>\n",
       "    <tr>\n",
       "      <th>4</th>\n",
       "      <td>4</td>\n",
       "      <td>6314302</td>\n",
       "      <td>Sambo Kojin</td>\n",
       "      <td>162</td>\n",
       "      <td>Mandaluyong City</td>\n",
       "      <td>Third Floor, Mega Atrium, SM Megamall, Ortigas...</td>\n",
       "      <td>SM Megamall, Ortigas, Mandaluyong City</td>\n",
       "      <td>SM Megamall, Ortigas, Mandaluyong City, Mandal...</td>\n",
       "      <td>121.057508</td>\n",
       "      <td>14.584450</td>\n",
       "      <td>...</td>\n",
       "      <td>1</td>\n",
       "      <td>229.0</td>\n",
       "      <td>55</td>\n",
       "      <td>65</td>\n",
       "      <td>99</td>\n",
       "      <td>72</td>\n",
       "      <td>50</td>\n",
       "      <td>36</td>\n",
       "      <td>16</td>\n",
       "      <td>5</td>\n",
       "    </tr>\n",
       "  </tbody>\n",
       "</table>\n",
       "<p>5 rows × 29 columns</p>\n",
       "</div>"
      ],
      "text/plain": [
       "   Unnamed: 0  Restaurant ID         Restaurant Name  Country Code  \\\n",
       "0           0        6317637        Le Petit Souffle           162   \n",
       "1           1        6304287        Izakaya Kikufuji           162   \n",
       "2           2        6300002  Heat - Edsa Shangri-La           162   \n",
       "3           3        6318506                    Ooma           162   \n",
       "4           4        6314302             Sambo Kojin           162   \n",
       "\n",
       "               City                                            Address  \\\n",
       "0       Makati City  Third Floor, Century City Mall, Kalayaan Avenu...   \n",
       "1       Makati City  Little Tokyo, 2277 Chino Roces Avenue, Legaspi...   \n",
       "2  Mandaluyong City  Edsa Shangri-La, 1 Garden Way, Ortigas, Mandal...   \n",
       "3  Mandaluyong City  Third Floor, Mega Fashion Hall, SM Megamall, O...   \n",
       "4  Mandaluyong City  Third Floor, Mega Atrium, SM Megamall, Ortigas...   \n",
       "\n",
       "                                     Locality  \\\n",
       "0   Century City Mall, Poblacion, Makati City   \n",
       "1  Little Tokyo, Legaspi Village, Makati City   \n",
       "2  Edsa Shangri-La, Ortigas, Mandaluyong City   \n",
       "3      SM Megamall, Ortigas, Mandaluyong City   \n",
       "4      SM Megamall, Ortigas, Mandaluyong City   \n",
       "\n",
       "                                    Locality Verbose   Longitude   Latitude  \\\n",
       "0  Century City Mall, Poblacion, Makati City, Mak...  121.027535  14.565443   \n",
       "1  Little Tokyo, Legaspi Village, Makati City, Ma...  121.014101  14.553708   \n",
       "2  Edsa Shangri-La, Ortigas, Mandaluyong City, Ma...  121.056831  14.581404   \n",
       "3  SM Megamall, Ortigas, Mandaluyong City, Mandal...  121.056475  14.585318   \n",
       "4  SM Megamall, Ortigas, Mandaluyong City, Mandal...  121.057508  14.584450   \n",
       "\n",
       "   ...  Rating text  Votes  Cuisines  Cuisines 2  Cuisines 3  Cuisines 4  \\\n",
       "0  ...            1  314.0        39          60          31          72   \n",
       "1  ...            1  320.0        55         116          99          72   \n",
       "2  ...            5  270.0        97           5          36          36   \n",
       "3  ...            1  320.0        55         103          99          72   \n",
       "4  ...            1  229.0        55          65          99          72   \n",
       "\n",
       "   Cuisines 5  Cuisines 6  Cuisines 7  Cuisines 8  \n",
       "0          50          36          16           5  \n",
       "1          50          36          16           5  \n",
       "2          50          36          16           5  \n",
       "3          50          36          16           5  \n",
       "4          50          36          16           5  \n",
       "\n",
       "[5 rows x 29 columns]"
      ]
     },
     "execution_count": 373,
     "metadata": {},
     "output_type": "execute_result"
    }
   ],
   "source": [
    "dataset.head()"
   ]
  },
  {
   "cell_type": "code",
   "execution_count": 374,
   "id": "5518ca4c-9974-460f-a6ae-4bb40dcbe285",
   "metadata": {},
   "outputs": [
    {
     "data": {
      "text/plain": [
       "1.2284135611838496"
      ]
     },
     "execution_count": 374,
     "metadata": {},
     "output_type": "execute_result"
    }
   ],
   "source": [
    "dataset['Votes'].skew()"
   ]
  },
  {
   "cell_type": "code",
   "execution_count": 375,
   "id": "184409a5-6f5b-47ca-ab81-48d9fa59813d",
   "metadata": {},
   "outputs": [
    {
     "data": {
      "text/plain": [
       "35.477914900871276"
      ]
     },
     "execution_count": 375,
     "metadata": {},
     "output_type": "execute_result"
    }
   ],
   "source": [
    "dataset['Average Cost for two'].skew()"
   ]
  },
  {
   "cell_type": "code",
   "execution_count": 376,
   "id": "cf0f8ce6-194b-4cbe-80a8-deb0fc0903a9",
   "metadata": {},
   "outputs": [],
   "source": [
    "from sklearn import preprocessing"
   ]
  },
  {
   "cell_type": "code",
   "execution_count": 377,
   "id": "8c788f73-1b32-427f-bee9-28d0a9f04f96",
   "metadata": {},
   "outputs": [],
   "source": [
    "label_encoder = preprocessing.LabelEncoder()"
   ]
  },
  {
   "cell_type": "code",
   "execution_count": 378,
   "id": "39551540-70a9-4b4e-90b9-59e8f26a3993",
   "metadata": {},
   "outputs": [],
   "source": [
    "dataset['Has Table booking'] = label_encoder.fit_transform(dataset['Has Table booking'])"
   ]
  },
  {
   "cell_type": "code",
   "execution_count": 379,
   "id": "ff4e3930-0d76-4813-a04e-10624b3dcedb",
   "metadata": {},
   "outputs": [
    {
     "data": {
      "text/plain": [
       "array([1, 0], dtype=int64)"
      ]
     },
     "execution_count": 379,
     "metadata": {},
     "output_type": "execute_result"
    }
   ],
   "source": [
    "dataset['Has Table booking'].unique()"
   ]
  },
  {
   "cell_type": "code",
   "execution_count": 380,
   "id": "e9be62cc-5eb3-48ef-8d02-ae6dafc43cff",
   "metadata": {},
   "outputs": [],
   "source": [
    "dataset['Has Online delivery'] = label_encoder.fit_transform(dataset['Has Online delivery'])\n",
    "dataset['Is delivering now'] = label_encoder.fit_transform(dataset['Is delivering now'])\n",
    "dataset['Switch to order menu'] = label_encoder.fit_transform(dataset['Switch to order menu'])\n",
    "dataset['Rating color'] = label_encoder.fit_transform(dataset['Rating color'])\n",
    "dataset['Rating text'] = label_encoder.fit_transform(dataset['Rating text'])\n",
    "dataset['Cuisines'] = label_encoder.fit_transform(dataset['Cuisines'])\n",
    "dataset['Cuisines 2'] = label_encoder.fit_transform(dataset['Cuisines 2'])\n",
    "dataset['Cuisines 3'] = label_encoder.fit_transform(dataset['Cuisines 3'])\n",
    "dataset['Cuisines 4'] = label_encoder.fit_transform(dataset['Cuisines 4'])\n",
    "dataset['Cuisines 5'] = label_encoder.fit_transform(dataset['Cuisines 5'])\n",
    "dataset['Cuisines 6'] = label_encoder.fit_transform(dataset['Cuisines 6'])\n",
    "dataset['Cuisines 7'] = label_encoder.fit_transform(dataset['Cuisines 7'])\n",
    "dataset['Cuisines 8'] = label_encoder.fit_transform(dataset['Cuisines 8'])"
   ]
  },
  {
   "cell_type": "code",
   "execution_count": 381,
   "id": "14103e1d-17f1-4bef-8490-c5f23b61cc44",
   "metadata": {},
   "outputs": [
    {
     "data": {
      "text/plain": [
       "array([0, 1], dtype=int64)"
      ]
     },
     "execution_count": 381,
     "metadata": {},
     "output_type": "execute_result"
    }
   ],
   "source": [
    "dataset['Has Online delivery'].unique()"
   ]
  },
  {
   "cell_type": "code",
   "execution_count": 382,
   "id": "1e721a25-9227-4de1-bb9b-ddf45e63c29a",
   "metadata": {},
   "outputs": [
    {
     "data": {
      "text/plain": [
       "array([0, 1], dtype=int64)"
      ]
     },
     "execution_count": 382,
     "metadata": {},
     "output_type": "execute_result"
    }
   ],
   "source": [
    "dataset['Is delivering now'].unique()"
   ]
  },
  {
   "cell_type": "code",
   "execution_count": 383,
   "id": "236715f5-aba5-4970-adf6-bc2626d9faf6",
   "metadata": {},
   "outputs": [
    {
     "data": {
      "text/plain": [
       "array([0, 1, 5, 2, 4, 3], dtype=int64)"
      ]
     },
     "execution_count": 383,
     "metadata": {},
     "output_type": "execute_result"
    }
   ],
   "source": [
    "dataset['Rating color'].unique()"
   ]
  },
  {
   "cell_type": "code",
   "execution_count": 384,
   "id": "a82dfff6-3fdc-4f35-87bf-d8ec638c8108",
   "metadata": {},
   "outputs": [],
   "source": [
    "import matplotlib.pyplot as plt"
   ]
  },
  {
   "cell_type": "code",
   "execution_count": 385,
   "id": "21ccf2bc-0ed9-4174-b938-f17e82c93639",
   "metadata": {},
   "outputs": [
    {
     "data": {
      "text/plain": [
       "{'whiskers': [<matplotlib.lines.Line2D at 0x1ee7cf24200>,\n",
       "  <matplotlib.lines.Line2D at 0x1ee7cf24500>],\n",
       " 'caps': [<matplotlib.lines.Line2D at 0x1ee7cf24830>,\n",
       "  <matplotlib.lines.Line2D at 0x1ee7cf24b30>],\n",
       " 'boxes': [<matplotlib.lines.Line2D at 0x1ee7cef7f80>],\n",
       " 'medians': [<matplotlib.lines.Line2D at 0x1ee7cf24e30>],\n",
       " 'fliers': [<matplotlib.lines.Line2D at 0x1ee7cf25160>],\n",
       " 'means': []}"
      ]
     },
     "execution_count": 385,
     "metadata": {},
     "output_type": "execute_result"
    },
    {
     "data": {
      "image/png": "[encoded data removed]",
      "text/plain": [
       "<Figure size 640x480 with 1 Axes>"
      ]
     },
     "metadata": {},
     "output_type": "display_data"
    }
   ],
   "source": [
    "plt.boxplot(dataset['Average Cost for two'])"
   ]
  },
  {
   "cell_type": "code",
   "execution_count": 386,
   "id": "1ec61018-c845-48f0-a063-2184ceed1781",
   "metadata": {},
   "outputs": [
    {
     "data": {
      "text/plain": [
       "{'whiskers': [<matplotlib.lines.Line2D at 0x1ee7cb8cbc0>,\n",
       "  <matplotlib.lines.Line2D at 0x1ee7cb8cec0>],\n",
       " 'caps': [<matplotlib.lines.Line2D at 0x1ee7cb8d1c0>,\n",
       "  <matplotlib.lines.Line2D at 0x1ee7cb8d4f0>],\n",
       " 'boxes': [<matplotlib.lines.Line2D at 0x1ee7cb8c2f0>],\n",
       " 'medians': [<matplotlib.lines.Line2D at 0x1ee7cb8d820>],\n",
       " 'fliers': [<matplotlib.lines.Line2D at 0x1ee7cb8db50>],\n",
       " 'means': []}"
      ]
     },
     "execution_count": 386,
     "metadata": {},
     "output_type": "execute_result"
    },
    {
     "data": {
      "image/png": "[encoded data removed]",
      "text/plain": [
       "<Figure size 640x480 with 1 Axes>"
      ]
     },
     "metadata": {},
     "output_type": "display_data"
    }
   ],
   "source": [
    "plt.boxplot(dataset['Votes'])"
   ]
  },
  {
   "cell_type": "code",
   "execution_count": 387,
   "id": "f4e93b42-ec04-40e8-8a13-16914a120ad3",
   "metadata": {},
   "outputs": [],
   "source": [
    "percentile25 = dataset['Average Cost for two'].quantile(0.25)"
   ]
  },
  {
   "cell_type": "code",
   "execution_count": 388,
   "id": "933fbd9d-de81-4187-8a2b-de266c70b399",
   "metadata": {},
   "outputs": [
    {
     "data": {
      "text/plain": [
       "250.0"
      ]
     },
     "execution_count": 388,
     "metadata": {},
     "output_type": "execute_result"
    }
   ],
   "source": [
    "percentile25"
   ]
  },
  {
   "cell_type": "code",
   "execution_count": 389,
   "id": "e73cb520-dfcb-4562-bc30-90299f5e0f62",
   "metadata": {},
   "outputs": [],
   "source": [
    "percentile75 = dataset['Average Cost for two'].quantile(0.75)"
   ]
  },
  {
   "cell_type": "code",
   "execution_count": 390,
   "id": "c685d2c3-4aa2-4d1c-b756-70cec8b2bc89",
   "metadata": {},
   "outputs": [],
   "source": [
    "iqr = percentile75 - percentile25"
   ]
  },
  {
   "cell_type": "code",
   "execution_count": 391,
   "id": "31549556-ca59-4340-9af5-5fd74a647a91",
   "metadata": {},
   "outputs": [],
   "source": [
    "high = percentile75 + 1.5*iqr"
   ]
  },
  {
   "cell_type": "code",
   "execution_count": 392,
   "id": "affc7546-9548-4d73-a860-a93e2dd2d58d",
   "metadata": {},
   "outputs": [
    {
     "data": {
      "text/plain": [
       "1375.0"
      ]
     },
     "execution_count": 392,
     "metadata": {},
     "output_type": "execute_result"
    }
   ],
   "source": [
    "high"
   ]
  },
  {
   "cell_type": "code",
   "execution_count": 393,
   "id": "bb51fca3-b64f-4a37-a1d5-7ca273220183",
   "metadata": {},
   "outputs": [],
   "source": [
    "low = percentile25 - 1.5*iqr"
   ]
  },
  {
   "cell_type": "code",
   "execution_count": 394,
   "id": "aa1159db-bd18-42a3-895b-43246694406a",
   "metadata": {},
   "outputs": [
    {
     "data": {
      "text/plain": [
       "-425.0"
      ]
     },
     "execution_count": 394,
     "metadata": {},
     "output_type": "execute_result"
    }
   ],
   "source": [
    "low"
   ]
  },
  {
   "cell_type": "code",
   "execution_count": 395,
   "id": "192d565b-a476-451f-add4-0a8c417af4b6",
   "metadata": {},
   "outputs": [
    {
     "data": {
      "text/plain": [
       "Unnamed: 0              0\n",
       "Restaurant ID           0\n",
       "Restaurant Name         0\n",
       "Country Code            0\n",
       "City                    0\n",
       "Address                 0\n",
       "Locality                0\n",
       "Locality Verbose        0\n",
       "Longitude               0\n",
       "Latitude                0\n",
       "Average Cost for two    0\n",
       "Currency                0\n",
       "Has Table booking       0\n",
       "Has Online delivery     0\n",
       "Is delivering now       0\n",
       "Switch to order menu    0\n",
       "Price range             0\n",
       "Aggregate rating        0\n",
       "Rating color            0\n",
       "Rating text             0\n",
       "Votes                   0\n",
       "Cuisines                0\n",
       "Cuisines 2              0\n",
       "Cuisines 3              0\n",
       "Cuisines 4              0\n",
       "Cuisines 5              0\n",
       "Cuisines 6              0\n",
       "Cuisines 7              0\n",
       "Cuisines 8              0\n",
       "dtype: int64"
      ]
     },
     "execution_count": 395,
     "metadata": {},
     "output_type": "execute_result"
    }
   ],
   "source": [
    "dataset.isnull().sum()"
   ]
  },
  {
   "cell_type": "code",
   "execution_count": 396,
   "id": "682c6031-4db0-4824-83f7-4f7779a1d00f",
   "metadata": {},
   "outputs": [],
   "source": [
    "new_df = dataset.copy()"
   ]
  },
  {
   "cell_type": "code",
   "execution_count": 397,
   "id": "cd4237b6-8616-45fe-9ed7-43fb9db4aa2f",
   "metadata": {},
   "outputs": [],
   "source": [
    "new_df['Average Cost for two'] = np.where(new_df['Average Cost for two']>high,high,np.where(new_df['Average Cost for two']<low,low,new_df['Average Cost for two']))"
   ]
  },
  {
   "cell_type": "code",
   "execution_count": 398,
   "id": "a889251d-b19a-4acb-9b21-341f6a7e9be4",
   "metadata": {},
   "outputs": [
    {
     "data": {
      "text/plain": [
       "0.9841986924889259"
      ]
     },
     "execution_count": 398,
     "metadata": {},
     "output_type": "execute_result"
    }
   ],
   "source": [
    "new_df['Average Cost for two'].skew()"
   ]
  },
  {
   "cell_type": "code",
   "execution_count": null,
   "id": "9ad566fe-3e19-412d-8246-546155f1b872",
   "metadata": {},
   "outputs": [],
   "source": []
  },
  {
   "cell_type": "code",
   "execution_count": 399,
   "id": "494cde13-d2b6-4f6e-a0e5-fdcb9725b112",
   "metadata": {},
   "outputs": [],
   "source": [
    "new_df.to_csv('data4.csv')"
   ]
  },
  {
   "cell_type": "code",
   "execution_count": 400,
   "id": "2b6e4816-1f11-4b23-b77e-224541df2518",
   "metadata": {},
   "outputs": [
    {
     "ename": "ModuleNotFoundError",
     "evalue": "No module named 'seaborn'",
     "output_type": "error",
     "traceback": [
      "\u001b[1;31m---------------------------------------------------------------------------\u001b[0m",
      "\u001b[1;31mModuleNotFoundError\u001b[0m                       Traceback (most recent call last)",
      "Cell \u001b[1;32mIn[400], line 1\u001b[0m\n\u001b[1;32m----> 1\u001b[0m \u001b[38;5;28;01mimport\u001b[39;00m \u001b[38;5;21;01mseaborn\u001b[39;00m \u001b[38;5;28;01mas\u001b[39;00m \u001b[38;5;21;01msns\u001b[39;00m\n",
      "\u001b[1;31mModuleNotFoundError\u001b[0m: No module named 'seaborn'"
     ]
    }
   ],
   "source": [
    "import seaborn as sns"
   ]
  },
  {
   "cell_type": "code",
   "execution_count": null,
   "id": "c4fd15d5-72f6-4cdb-8f07-0c1b6e8f9188",
   "metadata": {},
   "outputs": [],
   "source": [
    "x = new_df.drop('Unnamed: 0',axis=1)"
   ]
  },
  {
   "cell_type": "code",
   "execution_count": null,
   "id": "cd0d69ca-868d-44a1-a03a-fd94b80266b0",
   "metadata": {},
   "outputs": [],
   "source": [
    "x.corr()"
   ]
  },
  {
   "cell_type": "code",
   "execution_count": null,
   "id": "92819b5e-b8ea-4790-a05a-4b1557f64a86",
   "metadata": {},
   "outputs": [],
   "source": []
  }
 ],
 "metadata": {
  "kernelspec": {
   "display_name": "Python 3 (ipykernel)",
   "language": "python",
   "name": "python3"
  },
  "language_info": {
   "codemirror_mode": {
    "name": "ipython",
    "version": 3
   },
   "file_extension": ".py",
   "mimetype": "text/x-python",
   "name": "python",
   "nbconvert_exporter": "python",
   "pygments_lexer": "ipython3",
   "version": "3.12.1"
  }
 },
 "nbformat": 4,
 "nbformat_minor": 5
}
