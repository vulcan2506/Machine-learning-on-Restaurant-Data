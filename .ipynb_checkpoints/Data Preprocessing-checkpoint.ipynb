{
 "cells": [
  {
   "cell_type": "code",
   "execution_count": 300,
   "id": "b5001c22-33d5-442f-9f98-d2b38d166ea6",
   "metadata": {},
   "outputs": [],
   "source": [
    "import pandas as pd\n",
    "import numpy as np "
   ]
  },
  {
   "cell_type": "code",
   "execution_count": 301,
   "id": "237a2041-d1b5-4457-9ea9-396f53bc1afc",
   "metadata": {},
   "outputs": [],
   "source": [
    "dataset = pd.read_csv(\"Dataset .csv\")"
   ]
  },
  {
   "cell_type": "code",
   "execution_count": 302,
   "id": "fca3828c-6532-49e0-80f7-40d12aaaac0d",
   "metadata": {},
   "outputs": [
    {
     "data": {
      "text/html": [
       "<div>\n",
       "<style scoped>\n",
       "    .dataframe tbody tr th:only-of-type {\n",
       "        vertical-align: middle;\n",
       "    }\n",
       "\n",
       "    .dataframe tbody tr th {\n",
       "        vertical-align: top;\n",
       "    }\n",
       "\n",
       "    .dataframe thead th {\n",
       "        text-align: right;\n",
       "    }\n",
       "</style>\n",
       "<table border=\"1\" class=\"dataframe\">\n",
       "  <thead>\n",
       "    <tr style=\"text-align: right;\">\n",
       "      <th></th>\n",
       "      <th>Restaurant ID</th>\n",
       "      <th>Restaurant Name</th>\n",
       "      <th>Country Code</th>\n",
       "      <th>City</th>\n",
       "      <th>Address</th>\n",
       "      <th>Locality</th>\n",
       "      <th>Locality Verbose</th>\n",
       "      <th>Longitude</th>\n",
       "      <th>Latitude</th>\n",
       "      <th>Average Cost for two</th>\n",
       "      <th>...</th>\n",
       "      <th>Rating text</th>\n",
       "      <th>Votes</th>\n",
       "      <th>Cuisines</th>\n",
       "      <th>Cusines 2</th>\n",
       "      <th>Cusines 3</th>\n",
       "      <th>Cusines 4</th>\n",
       "      <th>Cusines 5</th>\n",
       "      <th>Cusines 6</th>\n",
       "      <th>Cusines 7</th>\n",
       "      <th>Cusines 8</th>\n",
       "    </tr>\n",
       "  </thead>\n",
       "  <tbody>\n",
       "    <tr>\n",
       "      <th>0</th>\n",
       "      <td>6317637</td>\n",
       "      <td>Le Petit Souffle</td>\n",
       "      <td>162</td>\n",
       "      <td>Makati City</td>\n",
       "      <td>Third Floor, Century City Mall, Kalayaan Avenu...</td>\n",
       "      <td>Century City Mall, Poblacion, Makati City</td>\n",
       "      <td>Century City Mall, Poblacion, Makati City, Mak...</td>\n",
       "      <td>121.027535</td>\n",
       "      <td>14.565443</td>\n",
       "      <td>1100</td>\n",
       "      <td>...</td>\n",
       "      <td>Excellent</td>\n",
       "      <td>314</td>\n",
       "      <td>French</td>\n",
       "      <td>Japanese</td>\n",
       "      <td>Desserts</td>\n",
       "      <td>NaN</td>\n",
       "      <td>NaN</td>\n",
       "      <td>NaN</td>\n",
       "      <td>NaN</td>\n",
       "      <td>NaN</td>\n",
       "    </tr>\n",
       "    <tr>\n",
       "      <th>1</th>\n",
       "      <td>6304287</td>\n",
       "      <td>Izakaya Kikufuji</td>\n",
       "      <td>162</td>\n",
       "      <td>Makati City</td>\n",
       "      <td>Little Tokyo, 2277 Chino Roces Avenue, Legaspi...</td>\n",
       "      <td>Little Tokyo, Legaspi Village, Makati City</td>\n",
       "      <td>Little Tokyo, Legaspi Village, Makati City, Ma...</td>\n",
       "      <td>121.014101</td>\n",
       "      <td>14.553708</td>\n",
       "      <td>1200</td>\n",
       "      <td>...</td>\n",
       "      <td>Excellent</td>\n",
       "      <td>591</td>\n",
       "      <td>Japanese</td>\n",
       "      <td>NaN</td>\n",
       "      <td>NaN</td>\n",
       "      <td>NaN</td>\n",
       "      <td>NaN</td>\n",
       "      <td>NaN</td>\n",
       "      <td>NaN</td>\n",
       "      <td>NaN</td>\n",
       "    </tr>\n",
       "    <tr>\n",
       "      <th>2</th>\n",
       "      <td>6300002</td>\n",
       "      <td>Heat - Edsa Shangri-La</td>\n",
       "      <td>162</td>\n",
       "      <td>Mandaluyong City</td>\n",
       "      <td>Edsa Shangri-La, 1 Garden Way, Ortigas, Mandal...</td>\n",
       "      <td>Edsa Shangri-La, Ortigas, Mandaluyong City</td>\n",
       "      <td>Edsa Shangri-La, Ortigas, Mandaluyong City, Ma...</td>\n",
       "      <td>121.056831</td>\n",
       "      <td>14.581404</td>\n",
       "      <td>4000</td>\n",
       "      <td>...</td>\n",
       "      <td>Very Good</td>\n",
       "      <td>270</td>\n",
       "      <td>Seafood</td>\n",
       "      <td>Asian</td>\n",
       "      <td>Filipino</td>\n",
       "      <td>Indian</td>\n",
       "      <td>NaN</td>\n",
       "      <td>NaN</td>\n",
       "      <td>NaN</td>\n",
       "      <td>NaN</td>\n",
       "    </tr>\n",
       "    <tr>\n",
       "      <th>3</th>\n",
       "      <td>6318506</td>\n",
       "      <td>Ooma</td>\n",
       "      <td>162</td>\n",
       "      <td>Mandaluyong City</td>\n",
       "      <td>Third Floor, Mega Fashion Hall, SM Megamall, O...</td>\n",
       "      <td>SM Megamall, Ortigas, Mandaluyong City</td>\n",
       "      <td>SM Megamall, Ortigas, Mandaluyong City, Mandal...</td>\n",
       "      <td>121.056475</td>\n",
       "      <td>14.585318</td>\n",
       "      <td>1500</td>\n",
       "      <td>...</td>\n",
       "      <td>Excellent</td>\n",
       "      <td>365</td>\n",
       "      <td>Japanese</td>\n",
       "      <td>Sushi</td>\n",
       "      <td>NaN</td>\n",
       "      <td>NaN</td>\n",
       "      <td>NaN</td>\n",
       "      <td>NaN</td>\n",
       "      <td>NaN</td>\n",
       "      <td>NaN</td>\n",
       "    </tr>\n",
       "    <tr>\n",
       "      <th>4</th>\n",
       "      <td>6314302</td>\n",
       "      <td>Sambo Kojin</td>\n",
       "      <td>162</td>\n",
       "      <td>Mandaluyong City</td>\n",
       "      <td>Third Floor, Mega Atrium, SM Megamall, Ortigas...</td>\n",
       "      <td>SM Megamall, Ortigas, Mandaluyong City</td>\n",
       "      <td>SM Megamall, Ortigas, Mandaluyong City, Mandal...</td>\n",
       "      <td>121.057508</td>\n",
       "      <td>14.584450</td>\n",
       "      <td>1500</td>\n",
       "      <td>...</td>\n",
       "      <td>Excellent</td>\n",
       "      <td>229</td>\n",
       "      <td>Japanese</td>\n",
       "      <td>Korean</td>\n",
       "      <td>NaN</td>\n",
       "      <td>NaN</td>\n",
       "      <td>NaN</td>\n",
       "      <td>NaN</td>\n",
       "      <td>NaN</td>\n",
       "      <td>NaN</td>\n",
       "    </tr>\n",
       "  </tbody>\n",
       "</table>\n",
       "<p>5 rows × 28 columns</p>\n",
       "</div>"
      ],
      "text/plain": [
       "   Restaurant ID         Restaurant Name  Country Code              City  \\\n",
       "0        6317637        Le Petit Souffle           162       Makati City   \n",
       "1        6304287        Izakaya Kikufuji           162       Makati City   \n",
       "2        6300002  Heat - Edsa Shangri-La           162  Mandaluyong City   \n",
       "3        6318506                    Ooma           162  Mandaluyong City   \n",
       "4        6314302             Sambo Kojin           162  Mandaluyong City   \n",
       "\n",
       "                                             Address  \\\n",
       "0  Third Floor, Century City Mall, Kalayaan Avenu...   \n",
       "1  Little Tokyo, 2277 Chino Roces Avenue, Legaspi...   \n",
       "2  Edsa Shangri-La, 1 Garden Way, Ortigas, Mandal...   \n",
       "3  Third Floor, Mega Fashion Hall, SM Megamall, O...   \n",
       "4  Third Floor, Mega Atrium, SM Megamall, Ortigas...   \n",
       "\n",
       "                                     Locality  \\\n",
       "0   Century City Mall, Poblacion, Makati City   \n",
       "1  Little Tokyo, Legaspi Village, Makati City   \n",
       "2  Edsa Shangri-La, Ortigas, Mandaluyong City   \n",
       "3      SM Megamall, Ortigas, Mandaluyong City   \n",
       "4      SM Megamall, Ortigas, Mandaluyong City   \n",
       "\n",
       "                                    Locality Verbose   Longitude   Latitude  \\\n",
       "0  Century City Mall, Poblacion, Makati City, Mak...  121.027535  14.565443   \n",
       "1  Little Tokyo, Legaspi Village, Makati City, Ma...  121.014101  14.553708   \n",
       "2  Edsa Shangri-La, Ortigas, Mandaluyong City, Ma...  121.056831  14.581404   \n",
       "3  SM Megamall, Ortigas, Mandaluyong City, Mandal...  121.056475  14.585318   \n",
       "4  SM Megamall, Ortigas, Mandaluyong City, Mandal...  121.057508  14.584450   \n",
       "\n",
       "   Average Cost for two  ... Rating text Votes  Cuisines  Cusines 2  \\\n",
       "0                  1100  ...   Excellent   314    French   Japanese   \n",
       "1                  1200  ...   Excellent   591  Japanese        NaN   \n",
       "2                  4000  ...   Very Good   270   Seafood      Asian   \n",
       "3                  1500  ...   Excellent   365  Japanese      Sushi   \n",
       "4                  1500  ...   Excellent   229  Japanese     Korean   \n",
       "\n",
       "   Cusines 3  Cusines 4  Cusines 5 Cusines 6 Cusines 7  Cusines 8  \n",
       "0   Desserts        NaN        NaN       NaN       NaN        NaN  \n",
       "1        NaN        NaN        NaN       NaN       NaN        NaN  \n",
       "2   Filipino     Indian        NaN       NaN       NaN        NaN  \n",
       "3        NaN        NaN        NaN       NaN       NaN        NaN  \n",
       "4        NaN        NaN        NaN       NaN       NaN        NaN  \n",
       "\n",
       "[5 rows x 28 columns]"
      ]
     },
     "execution_count": 302,
     "metadata": {},
     "output_type": "execute_result"
    }
   ],
   "source": [
    "dataset.head()"
   ]
  },
  {
   "cell_type": "code",
   "execution_count": 303,
   "id": "5518ca4c-9974-460f-a6ae-4bb40dcbe285",
   "metadata": {},
   "outputs": [
    {
     "data": {
      "text/plain": [
       "8.807636687709472"
      ]
     },
     "execution_count": 303,
     "metadata": {},
     "output_type": "execute_result"
    }
   ],
   "source": [
    "dataset['Votes'].skew()"
   ]
  },
  {
   "cell_type": "code",
   "execution_count": 304,
   "id": "184409a5-6f5b-47ca-ab81-48d9fa59813d",
   "metadata": {},
   "outputs": [
    {
     "data": {
      "text/plain": [
       "35.477914900871276"
      ]
     },
     "execution_count": 304,
     "metadata": {},
     "output_type": "execute_result"
    }
   ],
   "source": [
    "dataset['Average Cost for two'].skew()"
   ]
  },
  {
   "cell_type": "code",
   "execution_count": 305,
   "id": "cf0f8ce6-194b-4cbe-80a8-deb0fc0903a9",
   "metadata": {},
   "outputs": [],
   "source": [
    "from sklearn import preprocessing"
   ]
  },
  {
   "cell_type": "code",
   "execution_count": 306,
   "id": "8c788f73-1b32-427f-bee9-28d0a9f04f96",
   "metadata": {},
   "outputs": [],
   "source": [
    "label_encoder = preprocessing.LabelEncoder()"
   ]
  },
  {
   "cell_type": "code",
   "execution_count": 307,
   "id": "39551540-70a9-4b4e-90b9-59e8f26a3993",
   "metadata": {},
   "outputs": [],
   "source": [
    "dataset['Has Table booking'] = label_encoder.fit_transform(dataset['Has Table booking'])"
   ]
  },
  {
   "cell_type": "code",
   "execution_count": 308,
   "id": "ff4e3930-0d76-4813-a04e-10624b3dcedb",
   "metadata": {},
   "outputs": [
    {
     "data": {
      "text/plain": [
       "array([1, 0])"
      ]
     },
     "execution_count": 308,
     "metadata": {},
     "output_type": "execute_result"
    }
   ],
   "source": [
    "dataset['Has Table booking'].unique()"
   ]
  },
  {
   "cell_type": "code",
   "execution_count": 334,
   "id": "e9be62cc-5eb3-48ef-8d02-ae6dafc43cff",
   "metadata": {},
   "outputs": [
    {
     "ename": "KeyError",
     "evalue": "'Cuisines2'",
     "output_type": "error",
     "traceback": [
      "\u001b[1;31m---------------------------------------------------------------------------\u001b[0m",
      "\u001b[1;31mKeyError\u001b[0m                                  Traceback (most recent call last)",
      "File \u001b[1;32m~\\AppData\\Local\\Programs\\Python\\Python312\\Lib\\site-packages\\pandas\\core\\indexes\\base.py:3791\u001b[0m, in \u001b[0;36mIndex.get_loc\u001b[1;34m(self, key)\u001b[0m\n\u001b[0;32m   3790\u001b[0m \u001b[38;5;28;01mtry\u001b[39;00m:\n\u001b[1;32m-> 3791\u001b[0m     \u001b[38;5;28;01mreturn\u001b[39;00m \u001b[38;5;28;43mself\u001b[39;49m\u001b[38;5;241;43m.\u001b[39;49m\u001b[43m_engine\u001b[49m\u001b[38;5;241;43m.\u001b[39;49m\u001b[43mget_loc\u001b[49m\u001b[43m(\u001b[49m\u001b[43mcasted_key\u001b[49m\u001b[43m)\u001b[49m\n\u001b[0;32m   3792\u001b[0m \u001b[38;5;28;01mexcept\u001b[39;00m \u001b[38;5;167;01mKeyError\u001b[39;00m \u001b[38;5;28;01mas\u001b[39;00m err:\n",
      "File \u001b[1;32mindex.pyx:152\u001b[0m, in \u001b[0;36mpandas._libs.index.IndexEngine.get_loc\u001b[1;34m()\u001b[0m\n",
      "File \u001b[1;32mindex.pyx:181\u001b[0m, in \u001b[0;36mpandas._libs.index.IndexEngine.get_loc\u001b[1;34m()\u001b[0m\n",
      "File \u001b[1;32mpandas\\_libs\\hashtable_class_helper.pxi:7080\u001b[0m, in \u001b[0;36mpandas._libs.hashtable.PyObjectHashTable.get_item\u001b[1;34m()\u001b[0m\n",
      "File \u001b[1;32mpandas\\_libs\\hashtable_class_helper.pxi:7088\u001b[0m, in \u001b[0;36mpandas._libs.hashtable.PyObjectHashTable.get_item\u001b[1;34m()\u001b[0m\n",
      "\u001b[1;31mKeyError\u001b[0m: 'Cuisines2'",
      "\nThe above exception was the direct cause of the following exception:\n",
      "\u001b[1;31mKeyError\u001b[0m                                  Traceback (most recent call last)",
      "Cell \u001b[1;32mIn[334], line 7\u001b[0m\n\u001b[0;32m      5\u001b[0m dataset[\u001b[38;5;124m'\u001b[39m\u001b[38;5;124mRating text\u001b[39m\u001b[38;5;124m'\u001b[39m] \u001b[38;5;241m=\u001b[39m label_encoder\u001b[38;5;241m.\u001b[39mfit_transform(dataset[\u001b[38;5;124m'\u001b[39m\u001b[38;5;124mRating text\u001b[39m\u001b[38;5;124m'\u001b[39m])\n\u001b[0;32m      6\u001b[0m dataset[\u001b[38;5;124m'\u001b[39m\u001b[38;5;124mCuisines\u001b[39m\u001b[38;5;124m'\u001b[39m] \u001b[38;5;241m=\u001b[39m label_encoder\u001b[38;5;241m.\u001b[39mfit_transform(dataset[\u001b[38;5;124m'\u001b[39m\u001b[38;5;124mCuisines\u001b[39m\u001b[38;5;124m'\u001b[39m])\n\u001b[1;32m----> 7\u001b[0m dataset[\u001b[38;5;124m'\u001b[39m\u001b[38;5;124mCuisines2\u001b[39m\u001b[38;5;124m'\u001b[39m] \u001b[38;5;241m=\u001b[39m label_encoder\u001b[38;5;241m.\u001b[39mfit_transform(\u001b[43mdataset\u001b[49m\u001b[43m[\u001b[49m\u001b[38;5;124;43m'\u001b[39;49m\u001b[38;5;124;43mCuisines2\u001b[39;49m\u001b[38;5;124;43m'\u001b[39;49m\u001b[43m]\u001b[49m)\n\u001b[0;32m      8\u001b[0m dataset[\u001b[38;5;124m'\u001b[39m\u001b[38;5;124mCuisines3\u001b[39m\u001b[38;5;124m'\u001b[39m] \u001b[38;5;241m=\u001b[39m label_encoder\u001b[38;5;241m.\u001b[39mfit_transform(dataset[\u001b[38;5;124m'\u001b[39m\u001b[38;5;124mCuisines3\u001b[39m\u001b[38;5;124m'\u001b[39m])\n\u001b[0;32m      9\u001b[0m dataset[\u001b[38;5;124m'\u001b[39m\u001b[38;5;124mCuisines4\u001b[39m\u001b[38;5;124m'\u001b[39m] \u001b[38;5;241m=\u001b[39m label_encoder\u001b[38;5;241m.\u001b[39mfit_transform(dataset[\u001b[38;5;124m'\u001b[39m\u001b[38;5;124mCuisines4\u001b[39m\u001b[38;5;124m'\u001b[39m])\n",
      "File \u001b[1;32m~\\AppData\\Local\\Programs\\Python\\Python312\\Lib\\site-packages\\pandas\\core\\frame.py:3893\u001b[0m, in \u001b[0;36mDataFrame.__getitem__\u001b[1;34m(self, key)\u001b[0m\n\u001b[0;32m   3891\u001b[0m \u001b[38;5;28;01mif\u001b[39;00m \u001b[38;5;28mself\u001b[39m\u001b[38;5;241m.\u001b[39mcolumns\u001b[38;5;241m.\u001b[39mnlevels \u001b[38;5;241m>\u001b[39m \u001b[38;5;241m1\u001b[39m:\n\u001b[0;32m   3892\u001b[0m     \u001b[38;5;28;01mreturn\u001b[39;00m \u001b[38;5;28mself\u001b[39m\u001b[38;5;241m.\u001b[39m_getitem_multilevel(key)\n\u001b[1;32m-> 3893\u001b[0m indexer \u001b[38;5;241m=\u001b[39m \u001b[38;5;28;43mself\u001b[39;49m\u001b[38;5;241;43m.\u001b[39;49m\u001b[43mcolumns\u001b[49m\u001b[38;5;241;43m.\u001b[39;49m\u001b[43mget_loc\u001b[49m\u001b[43m(\u001b[49m\u001b[43mkey\u001b[49m\u001b[43m)\u001b[49m\n\u001b[0;32m   3894\u001b[0m \u001b[38;5;28;01mif\u001b[39;00m is_integer(indexer):\n\u001b[0;32m   3895\u001b[0m     indexer \u001b[38;5;241m=\u001b[39m [indexer]\n",
      "File \u001b[1;32m~\\AppData\\Local\\Programs\\Python\\Python312\\Lib\\site-packages\\pandas\\core\\indexes\\base.py:3798\u001b[0m, in \u001b[0;36mIndex.get_loc\u001b[1;34m(self, key)\u001b[0m\n\u001b[0;32m   3793\u001b[0m     \u001b[38;5;28;01mif\u001b[39;00m \u001b[38;5;28misinstance\u001b[39m(casted_key, \u001b[38;5;28mslice\u001b[39m) \u001b[38;5;129;01mor\u001b[39;00m (\n\u001b[0;32m   3794\u001b[0m         \u001b[38;5;28misinstance\u001b[39m(casted_key, abc\u001b[38;5;241m.\u001b[39mIterable)\n\u001b[0;32m   3795\u001b[0m         \u001b[38;5;129;01mand\u001b[39;00m \u001b[38;5;28many\u001b[39m(\u001b[38;5;28misinstance\u001b[39m(x, \u001b[38;5;28mslice\u001b[39m) \u001b[38;5;28;01mfor\u001b[39;00m x \u001b[38;5;129;01min\u001b[39;00m casted_key)\n\u001b[0;32m   3796\u001b[0m     ):\n\u001b[0;32m   3797\u001b[0m         \u001b[38;5;28;01mraise\u001b[39;00m InvalidIndexError(key)\n\u001b[1;32m-> 3798\u001b[0m     \u001b[38;5;28;01mraise\u001b[39;00m \u001b[38;5;167;01mKeyError\u001b[39;00m(key) \u001b[38;5;28;01mfrom\u001b[39;00m \u001b[38;5;21;01merr\u001b[39;00m\n\u001b[0;32m   3799\u001b[0m \u001b[38;5;28;01mexcept\u001b[39;00m \u001b[38;5;167;01mTypeError\u001b[39;00m:\n\u001b[0;32m   3800\u001b[0m     \u001b[38;5;66;03m# If we have a listlike key, _check_indexing_error will raise\u001b[39;00m\n\u001b[0;32m   3801\u001b[0m     \u001b[38;5;66;03m#  InvalidIndexError. Otherwise we fall through and re-raise\u001b[39;00m\n\u001b[0;32m   3802\u001b[0m     \u001b[38;5;66;03m#  the TypeError.\u001b[39;00m\n\u001b[0;32m   3803\u001b[0m     \u001b[38;5;28mself\u001b[39m\u001b[38;5;241m.\u001b[39m_check_indexing_error(key)\n",
      "\u001b[1;31mKeyError\u001b[0m: 'Cuisines2'"
     ]
    }
   ],
   "source": [
    "dataset['Has Online delivery'] = label_encoder.fit_transform(dataset['Has Online delivery'])\n",
    "dataset['Is delivering now'] = label_encoder.fit_transform(dataset['Is delivering now'])\n",
    "dataset['Switch to order menu'] = label_encoder.fit_transform(dataset['Switch to order menu'])\n",
    "dataset['Rating color'] = label_encoder.fit_transform(dataset['Rating color'])\n",
    "dataset['Rating text'] = label_encoder.fit_transform(dataset['Rating text'])\n",
    "dataset['Cuisines'] = label_encoder.fit_transform(dataset['Cuisines'])\n",
    "dataset['Cuisines 2'] = label_encoder.fit_transform(dataset['Cuisines 2'])\n",
    "dataset['Cuisines 3'] = label_encoder.fit_transform(dataset['Cuisines 3'])\n",
    "dataset['Cuisines 4'] = label_encoder.fit_transform(dataset['Cuisines 4'])\n",
    "dataset['Cuisines 5'] = label_encoder.fit_transform(dataset['Cuisines 5'])\n",
    "dataset['Cuisines 6'] = label_encoder.fit_transform(dataset['Cuisines 6'])\n",
    "dataset['Cuisines 7'] = label_encoder.fit_transform(dataset['Cuisines 7'])\n",
    "dataset['Cuisines 8'] = label_encoder.fit_transform(dataset['Cuisines 8'])\n"
   ]
  },
  {
   "cell_type": "code",
   "execution_count": 310,
   "id": "14103e1d-17f1-4bef-8490-c5f23b61cc44",
   "metadata": {},
   "outputs": [
    {
     "data": {
      "text/plain": [
       "array([0, 1])"
      ]
     },
     "execution_count": 310,
     "metadata": {},
     "output_type": "execute_result"
    }
   ],
   "source": [
    "dataset['Has Online delivery'].unique()"
   ]
  },
  {
   "cell_type": "code",
   "execution_count": 311,
   "id": "1e721a25-9227-4de1-bb9b-ddf45e63c29a",
   "metadata": {},
   "outputs": [
    {
     "data": {
      "text/plain": [
       "array([0, 1])"
      ]
     },
     "execution_count": 311,
     "metadata": {},
     "output_type": "execute_result"
    }
   ],
   "source": [
    "dataset['Is delivering now'].unique()"
   ]
  },
  {
   "cell_type": "code",
   "execution_count": 312,
   "id": "236715f5-aba5-4970-adf6-bc2626d9faf6",
   "metadata": {},
   "outputs": [
    {
     "data": {
      "text/plain": [
       "array([0, 1, 5, 2, 4, 3])"
      ]
     },
     "execution_count": 312,
     "metadata": {},
     "output_type": "execute_result"
    }
   ],
   "source": [
    "dataset['Rating color'].unique()"
   ]
  },
  {
   "cell_type": "code",
   "execution_count": 313,
   "id": "a82dfff6-3fdc-4f35-87bf-d8ec638c8108",
   "metadata": {},
   "outputs": [],
   "source": [
    "import matplotlib.pyplot as plt"
   ]
  },
  {
   "cell_type": "code",
   "execution_count": 314,
   "id": "21ccf2bc-0ed9-4174-b938-f17e82c93639",
   "metadata": {},
   "outputs": [
    {
     "data": {
      "text/plain": [
       "{'whiskers': [<matplotlib.lines.Line2D at 0x1ee76c4b710>,\n",
       "  <matplotlib.lines.Line2D at 0x1ee76c4b3e0>],\n",
       " 'caps': [<matplotlib.lines.Line2D at 0x1ee76c4af90>,\n",
       "  <matplotlib.lines.Line2D at 0x1ee745b3170>],\n",
       " 'boxes': [<matplotlib.lines.Line2D at 0x1ee76c4ba40>],\n",
       " 'medians': [<matplotlib.lines.Line2D at 0x1ee745b2c90>],\n",
       " 'fliers': [<matplotlib.lines.Line2D at 0x1ee745b2fc0>],\n",
       " 'means': []}"
      ]
     },
     "execution_count": 314,
     "metadata": {},
     "output_type": "execute_result"
    },
    {
     "data": {
      "image/png": "[encoded data removed]",
      "text/plain": [
       "<Figure size 640x480 with 1 Axes>"
      ]
     },
     "metadata": {},
     "output_type": "display_data"
    }
   ],
   "source": [
    "plt.boxplot(dataset['Average Cost for two'])"
   ]
  },
  {
   "cell_type": "code",
   "execution_count": 315,
   "id": "1ec61018-c845-48f0-a063-2184ceed1781",
   "metadata": {},
   "outputs": [
    {
     "data": {
      "text/plain": [
       "{'whiskers': [<matplotlib.lines.Line2D at 0x1ee74603fb0>,\n",
       "  <matplotlib.lines.Line2D at 0x1ee74603e30>],\n",
       " 'caps': [<matplotlib.lines.Line2D at 0x1ee74603980>,\n",
       "  <matplotlib.lines.Line2D at 0x1ee74603620>],\n",
       " 'boxes': [<matplotlib.lines.Line2D at 0x1ee746082c0>],\n",
       " 'medians': [<matplotlib.lines.Line2D at 0x1ee746032f0>],\n",
       " 'fliers': [<matplotlib.lines.Line2D at 0x1ee74603050>],\n",
       " 'means': []}"
      ]
     },
     "execution_count": 315,
     "metadata": {},
     "output_type": "execute_result"
    },
    {
     "data": {
      "image/png": "[encoded data removed]",
      "text/plain": [
       "<Figure size 640x480 with 1 Axes>"
      ]
     },
     "metadata": {},
     "output_type": "display_data"
    }
   ],
   "source": [
    "plt.boxplot(dataset['Votes'])"
   ]
  },
  {
   "cell_type": "code",
   "execution_count": 316,
   "id": "f4e93b42-ec04-40e8-8a13-16914a120ad3",
   "metadata": {},
   "outputs": [],
   "source": [
    "percentile25 = dataset['Votes'].quantile(0.25)"
   ]
  },
  {
   "cell_type": "code",
   "execution_count": 317,
   "id": "933fbd9d-de81-4187-8a2b-de266c70b399",
   "metadata": {},
   "outputs": [
    {
     "data": {
      "text/plain": [
       "5.0"
      ]
     },
     "execution_count": 317,
     "metadata": {},
     "output_type": "execute_result"
    }
   ],
   "source": [
    "percentile25"
   ]
  },
  {
   "cell_type": "code",
   "execution_count": 318,
   "id": "e73cb520-dfcb-4562-bc30-90299f5e0f62",
   "metadata": {},
   "outputs": [],
   "source": [
    "percentile75 = dataset['Votes'].quantile(0.75)"
   ]
  },
  {
   "cell_type": "code",
   "execution_count": 319,
   "id": "c685d2c3-4aa2-4d1c-b756-70cec8b2bc89",
   "metadata": {},
   "outputs": [],
   "source": [
    "iqr = percentile75 - percentile25"
   ]
  },
  {
   "cell_type": "code",
   "execution_count": 320,
   "id": "31549556-ca59-4340-9af5-5fd74a647a91",
   "metadata": {},
   "outputs": [],
   "source": [
    "high = percentile75 + 1.5*iqr"
   ]
  },
  {
   "cell_type": "code",
   "execution_count": 321,
   "id": "affc7546-9548-4d73-a860-a93e2dd2d58d",
   "metadata": {},
   "outputs": [
    {
     "data": {
      "text/plain": [
       "320.0"
      ]
     },
     "execution_count": 321,
     "metadata": {},
     "output_type": "execute_result"
    }
   ],
   "source": [
    "high"
   ]
  },
  {
   "cell_type": "code",
   "execution_count": 322,
   "id": "bb51fca3-b64f-4a37-a1d5-7ca273220183",
   "metadata": {},
   "outputs": [],
   "source": [
    "low = percentile25 - 1.5*iqr"
   ]
  },
  {
   "cell_type": "code",
   "execution_count": 323,
   "id": "aa1159db-bd18-42a3-895b-43246694406a",
   "metadata": {},
   "outputs": [
    {
     "data": {
      "text/plain": [
       "-184.0"
      ]
     },
     "execution_count": 323,
     "metadata": {},
     "output_type": "execute_result"
    }
   ],
   "source": [
    "low"
   ]
  },
  {
   "cell_type": "code",
   "execution_count": 324,
   "id": "192d565b-a476-451f-add4-0a8c417af4b6",
   "metadata": {},
   "outputs": [
    {
     "data": {
      "text/plain": [
       "Restaurant ID              0\n",
       "Restaurant Name            0\n",
       "Country Code               0\n",
       "City                       0\n",
       "Address                    0\n",
       "Locality                   0\n",
       "Locality Verbose           0\n",
       "Longitude                  0\n",
       "Latitude                   0\n",
       "Average Cost for two       0\n",
       "Currency                   0\n",
       "Has Table booking          0\n",
       "Has Online delivery        0\n",
       "Is delivering now          0\n",
       "Switch to order menu       0\n",
       "Price range                0\n",
       "Aggregate rating           0\n",
       "Rating color               0\n",
       "Rating text                0\n",
       "Votes                      0\n",
       "Cuisines                   9\n",
       "Cusines 2               3403\n",
       "Cusines 3               6847\n",
       "Cusines 4               8687\n",
       "Cusines 5               9271\n",
       "Cusines 6               9435\n",
       "Cusines 7               9509\n",
       "Cusines 8               9537\n",
       "dtype: int64"
      ]
     },
     "execution_count": 324,
     "metadata": {},
     "output_type": "execute_result"
    }
   ],
   "source": [
    "dataset.isnull().sum()"
   ]
  },
  {
   "cell_type": "code",
   "execution_count": 325,
   "id": "682c6031-4db0-4824-83f7-4f7779a1d00f",
   "metadata": {},
   "outputs": [],
   "source": [
    "new_df = dataset.copy()"
   ]
  },
  {
   "cell_type": "code",
   "execution_count": 326,
   "id": "cd4237b6-8616-45fe-9ed7-43fb9db4aa2f",
   "metadata": {},
   "outputs": [],
   "source": [
    "new_df['Votes'] = np.where(new_df['Votes']>high,high,np.where(new_df['Votes']<low,low,new_df['Votes']))"
   ]
  },
  {
   "cell_type": "code",
   "execution_count": 327,
   "id": "a889251d-b19a-4acb-9b21-341f6a7e9be4",
   "metadata": {},
   "outputs": [
    {
     "data": {
      "text/plain": [
       "1.2284135611838496"
      ]
     },
     "execution_count": 327,
     "metadata": {},
     "output_type": "execute_result"
    }
   ],
   "source": [
    "new_df['Votes'].skew()"
   ]
  },
  {
   "cell_type": "code",
   "execution_count": null,
   "id": "9ad566fe-3e19-412d-8246-546155f1b872",
   "metadata": {},
   "outputs": [],
   "source": []
  },
  {
   "cell_type": "code",
   "execution_count": 328,
   "id": "494cde13-d2b6-4f6e-a0e5-fdcb9725b112",
   "metadata": {},
   "outputs": [],
   "source": [
    "new_df.to_csv('data3')"
   ]
  },
  {
   "cell_type": "code",
   "execution_count": 329,
   "id": "2b6e4816-1f11-4b23-b77e-224541df2518",
   "metadata": {},
   "outputs": [
    {
     "ename": "ModuleNotFoundError",
     "evalue": "No module named 'seaborn'",
     "output_type": "error",
     "traceback": [
      "\u001b[1;31m---------------------------------------------------------------------------\u001b[0m",
      "\u001b[1;31mModuleNotFoundError\u001b[0m                       Traceback (most recent call last)",
      "Cell \u001b[1;32mIn[329], line 1\u001b[0m\n\u001b[1;32m----> 1\u001b[0m \u001b[38;5;28;01mimport\u001b[39;00m \u001b[38;5;21;01mseaborn\u001b[39;00m \u001b[38;5;28;01mas\u001b[39;00m \u001b[38;5;21;01msns\u001b[39;00m\n",
      "\u001b[1;31mModuleNotFoundError\u001b[0m: No module named 'seaborn'"
     ]
    }
   ],
   "source": [
    "import seaborn as sns"
   ]
  },
  {
   "cell_type": "code",
   "execution_count": null,
   "id": "c4fd15d5-72f6-4cdb-8f07-0c1b6e8f9188",
   "metadata": {},
   "outputs": [],
   "source": [
    "x = new_df.drop('Unnamed: 0',axis=1)"
   ]
  },
  {
   "cell_type": "code",
   "execution_count": null,
   "id": "cd0d69ca-868d-44a1-a03a-fd94b80266b0",
   "metadata": {},
   "outputs": [],
   "source": [
    "x.corr()"
   ]
  },
  {
   "cell_type": "code",
   "execution_count": null,
   "id": "92819b5e-b8ea-4790-a05a-4b1557f64a86",
   "metadata": {},
   "outputs": [],
   "source": []
  }
 ],
 "metadata": {
  "kernelspec": {
   "display_name": "Python 3 (ipykernel)",
   "language": "python",
   "name": "python3"
  },
  "language_info": {
   "codemirror_mode": {
    "name": "ipython",
    "version": 3
   },
   "file_extension": ".py",
   "mimetype": "text/x-python",
   "name": "python",
   "nbconvert_exporter": "python",
   "pygments_lexer": "ipython3",
   "version": "3.12.1"
  }
 },
 "nbformat": 4,
 "nbformat_minor": 5
}
